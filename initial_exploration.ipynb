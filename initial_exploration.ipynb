{
 "cells": [
  {
   "cell_type": "code",
   "execution_count": 1,
   "metadata": {},
   "outputs": [],
   "source": [
    "import pandas as pd"
   ]
  },
  {
   "cell_type": "code",
   "execution_count": 2,
   "metadata": {},
   "outputs": [],
   "source": [
    "df = pd.read_csv('gini.csv')"
   ]
  },
  {
   "cell_type": "code",
   "execution_count": 3,
   "metadata": {},
   "outputs": [
    {
     "data": {
      "text/html": [
       "<div>\n",
       "<style scoped>\n",
       "    .dataframe tbody tr th:only-of-type {\n",
       "        vertical-align: middle;\n",
       "    }\n",
       "\n",
       "    .dataframe tbody tr th {\n",
       "        vertical-align: top;\n",
       "    }\n",
       "\n",
       "    .dataframe thead th {\n",
       "        text-align: right;\n",
       "    }\n",
       "</style>\n",
       "<table border=\"1\" class=\"dataframe\">\n",
       "  <thead>\n",
       "    <tr style=\"text-align: right;\">\n",
       "      <th></th>\n",
       "      <th>NAME</th>\n",
       "      <th>County</th>\n",
       "      <th>GINI Index</th>\n",
       "    </tr>\n",
       "  </thead>\n",
       "  <tbody>\n",
       "    <tr>\n",
       "      <th>0</th>\n",
       "      <td>Henderson County, North Carolina</td>\n",
       "      <td>Henderson County, North Carolina</td>\n",
       "      <td>0.3956</td>\n",
       "    </tr>\n",
       "    <tr>\n",
       "      <th>1</th>\n",
       "      <td>Johnston County, North Carolina</td>\n",
       "      <td>Johnston County, North Carolina</td>\n",
       "      <td>0.3966</td>\n",
       "    </tr>\n",
       "    <tr>\n",
       "      <th>2</th>\n",
       "      <td>Onslow County, North Carolina</td>\n",
       "      <td>Onslow County, North Carolina</td>\n",
       "      <td>0.3966</td>\n",
       "    </tr>\n",
       "    <tr>\n",
       "      <th>3</th>\n",
       "      <td>Rowan County, North Carolina</td>\n",
       "      <td>Rowan County, North Carolina</td>\n",
       "      <td>0.4072</td>\n",
       "    </tr>\n",
       "    <tr>\n",
       "      <th>4</th>\n",
       "      <td>Cumberland County, North Carolina</td>\n",
       "      <td>Cumberland County, North Carolina</td>\n",
       "      <td>0.4153</td>\n",
       "    </tr>\n",
       "    <tr>\n",
       "      <th>5</th>\n",
       "      <td>Randolph County, North Carolina</td>\n",
       "      <td>Randolph County, North Carolina</td>\n",
       "      <td>0.4172</td>\n",
       "    </tr>\n",
       "    <tr>\n",
       "      <th>6</th>\n",
       "      <td>Rockingham County, North Carolina</td>\n",
       "      <td>Rockingham County, North Carolina</td>\n",
       "      <td>0.4178</td>\n",
       "    </tr>\n",
       "    <tr>\n",
       "      <th>7</th>\n",
       "      <td>Rutherford County, North Carolina</td>\n",
       "      <td>Rutherford County, North Carolina</td>\n",
       "      <td>0.4270</td>\n",
       "    </tr>\n",
       "    <tr>\n",
       "      <th>8</th>\n",
       "      <td>Harnett County, North Carolina</td>\n",
       "      <td>Harnett County, North Carolina</td>\n",
       "      <td>0.4276</td>\n",
       "    </tr>\n",
       "    <tr>\n",
       "      <th>9</th>\n",
       "      <td>Davidson County, North Carolina</td>\n",
       "      <td>Davidson County, North Carolina</td>\n",
       "      <td>0.4281</td>\n",
       "    </tr>\n",
       "  </tbody>\n",
       "</table>\n",
       "</div>"
      ],
      "text/plain": [
       "                                NAME                             County  \\\n",
       "0   Henderson County, North Carolina   Henderson County, North Carolina   \n",
       "1    Johnston County, North Carolina    Johnston County, North Carolina   \n",
       "2      Onslow County, North Carolina      Onslow County, North Carolina   \n",
       "3       Rowan County, North Carolina       Rowan County, North Carolina   \n",
       "4  Cumberland County, North Carolina  Cumberland County, North Carolina   \n",
       "5    Randolph County, North Carolina    Randolph County, North Carolina   \n",
       "6  Rockingham County, North Carolina  Rockingham County, North Carolina   \n",
       "7  Rutherford County, North Carolina  Rutherford County, North Carolina   \n",
       "8     Harnett County, North Carolina     Harnett County, North Carolina   \n",
       "9    Davidson County, North Carolina    Davidson County, North Carolina   \n",
       "\n",
       "   GINI Index  \n",
       "0      0.3956  \n",
       "1      0.3966  \n",
       "2      0.3966  \n",
       "3      0.4072  \n",
       "4      0.4153  \n",
       "5      0.4172  \n",
       "6      0.4178  \n",
       "7      0.4270  \n",
       "8      0.4276  \n",
       "9      0.4281  "
      ]
     },
     "execution_count": 3,
     "metadata": {},
     "output_type": "execute_result"
    }
   ],
   "source": [
    "df.head(10)"
   ]
  },
  {
   "cell_type": "code",
   "execution_count": null,
   "metadata": {
    "collapsed": true
   },
   "outputs": [],
   "source": []
  }
 ],
 "metadata": {
  "kernelspec": {
   "display_name": "Python 3",
   "language": "python",
   "name": "python3"
  },
  "language_info": {
   "codemirror_mode": {
    "name": "ipython",
    "version": 3
   },
   "file_extension": ".py",
   "mimetype": "text/x-python",
   "name": "python",
   "nbconvert_exporter": "python",
   "pygments_lexer": "ipython3",
   "version": "3.6.4"
  }
 },
 "nbformat": 4,
 "nbformat_minor": 2
}
